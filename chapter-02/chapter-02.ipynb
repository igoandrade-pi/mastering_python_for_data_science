{
 "cells": [
  {
   "cell_type": "markdown",
   "id": "f190b871-d327-4a8e-b2f7-e86328ba6855",
   "metadata": {},
   "source": [
    "# Inferência Estatística"
   ]
  },
  {
   "cell_type": "markdown",
   "id": "22d90fb7-8fd1-4c31-b7d7-7224fc105fde",
   "metadata": {},
   "source": [
    "## Distribuição normal\n",
    "\n",
    "$$\n",
    "P(x) = \\dfrac{x!}{x! (n - x)!} p^x q ^{n-x}\n",
    "$$"
   ]
  },
  {
   "cell_type": "code",
   "execution_count": 1,
   "id": "91fa6e3d-2581-4d6b-9303-9a119116ea9b",
   "metadata": {},
   "outputs": [],
   "source": [
    "import numpy as np\n",
    "import matplotlib.pyplot as plt\n",
    "from scipy.stats import binom"
   ]
  },
  {
   "cell_type": "code",
   "execution_count": 24,
   "id": "4a6a3295-7277-4cb8-954e-9c33c5845dfa",
   "metadata": {},
   "outputs": [
    {
     "data": {
      "image/png": "[encoded data removed]",
      "text/plain": [
       "<Figure size 432x288 with 1 Axes>"
      ]
     },
     "metadata": {
      "needs_background": "light"
     },
     "output_type": "display_data"
    }
   ],
   "source": [
    "fig, ax = plt.subplots(1,1)\n",
    "\n",
    "n, p = 50, 0.5\n",
    "x = np.arange(n+1)\n",
    "\n",
    "rv = binom(n, p)\n",
    "ax.vlines(x, 0, rv.pmf(x), colors='k', linestyles='-', lw=1)\n",
    "\n",
    "N = x[int(.54 * len(x))]\n",
    "P = rv.pmf(N)\n",
    "ax.vlines(N, 0, P, colors='r', linestyles='-', lw=1)\n",
    "plt.plot(N, P, 'ro', label=f'P(X = {N}) = {P:.4f}')\n",
    "\n",
    "plt.title('Distribuição Normal')\n",
    "plt.xlabel('$N$')\n",
    "plt.ylabel('$P(X = N)$')\n",
    "\n",
    "plt.legend(frameon=False)\n",
    "\n",
    "plt.show()"
   ]
  },
  {
   "cell_type": "markdown",
   "id": "f354c11a-09cc-4fae-88e0-450d05e9a5ec",
   "metadata": {},
   "source": [
    "## Distribuição de Poisson\n",
    "\n",
    "$$\n",
    "    f(k, \\lambda) = Pr(X = k) = \\dfrac{\\lambda^k e^{-\\lambda}}{k!}\n",
    "$$"
   ]
  },
  {
   "cell_type": "code",
   "execution_count": 25,
   "id": "cb4b4a78-ab91-4d43-a6b0-913d86feeb0e",
   "metadata": {},
   "outputs": [],
   "source": [
    "from scipy.stats import poisson"
   ]
  },
  {
   "cell_type": "code",
   "execution_count": 43,
   "id": "4e1f3ac8-6f19-4c55-a305-da0914cc3b9b",
   "metadata": {},
   "outputs": [
    {
     "data": {
      "image/png": "[encoded data removed]",
      "text/plain": [
       "<Figure size 432x288 with 1 Axes>"
      ]
     },
     "metadata": {
      "needs_background": "light"
     },
     "output_type": "display_data"
    }
   ],
   "source": [
    "fig, ax = plt.subplots(1,1)\n",
    "l = 20\n",
    "rv = poisson(l)\n",
    "x = np.arange(2 * l + 1)\n",
    "P_x = np.asarray([rv.pmf(_) for _ in x])\n",
    "\n",
    "ax.vlines(x, 0, P_x, colors='k', linestyles='-', lw=1)\n",
    "\n",
    "k = 23\n",
    "P_k = rv.pmf(k)\n",
    "ax.vlines(k, 0, P_k, colors='r', linestyles='-', lw=1)\n",
    "plt.plot(k, P_k, 'ro', label=f'P(X = {k}) = {P_k:.4f}')\n",
    "\n",
    "\n",
    "plt.title(f'Distribuição de Poisson $\\lambda = {l}$')\n",
    "plt.xlabel('Nº de ocorrências ($k$)')\n",
    "plt.ylabel('Probabilidade $P(X = k)$')\n",
    "plt.legend(frameon=False)\n",
    "plt.show()"
   ]
  },
  {
   "cell_type": "markdown",
   "id": "241e394c-1ed1-4dcd-9f27-5666dea4ce30",
   "metadata": {},
   "source": [
    "## Distribuição de Bernoulli\n",
    "\n",
    "\\begin{equation}\n",
    "    P(n) = \n",
    "    \\begin{cases}\n",
    "    1 - p & \\mbox{para } n = 0\\\\\n",
    "    p & \\mbox{para } n = 1\n",
    "    \\end{cases}\n",
    "\\end{equation}\n",
    "\n",
    "$$\n",
    "    P(n) = p^n(1 - p)^{1-n}\n",
    "$$"
   ]
  },
  {
   "cell_type": "markdown",
   "id": "9a65ee87-f83c-4151-9a76-4fec0d7e191a",
   "metadata": {},
   "source": [
    "## z-score\n",
    "\n",
    "$$\n",
    "z = \\dfrac{X - \\mu}{\\sigma}\n",
    "$$"
   ]
  },
  {
   "cell_type": "code",
   "execution_count": 45,
   "id": "9f879dca-24a0-41ca-a3d0-359d518b0ea6",
   "metadata": {},
   "outputs": [
    {
     "data": {
      "text/plain": [
       "array([52., 55., 48., 42., 43., 42., 49., 58., 48., 39., 55., 41., 69.,\n",
       "       56., 68., 57., 42., 43., 40., 44., 46., 51., 61., 51., 53., 36.,\n",
       "       57., 61., 37., 55., 42., 58., 40., 37., 40., 56., 39., 65., 50.,\n",
       "       39., 52., 44., 42., 60., 48., 57., 45., 52., 46., 55., 34., 60.,\n",
       "       52., 41., 44., 58., 51., 40., 61., 28.])"
      ]
     },
     "execution_count": 45,
     "metadata": {},
     "output_type": "execute_result"
    }
   ],
   "source": [
    "classscore = np.random.normal(50, 10, 60).round()\n",
    "classscore"
   ]
  },
  {
   "cell_type": "code",
   "execution_count": 69,
   "id": "f6915eea-5833-4ba2-b5e1-eccfde24ced4",
   "metadata": {},
   "outputs": [],
   "source": [
    "from scipy import stats"
   ]
  },
  {
   "cell_type": "code",
   "execution_count": 49,
   "id": "2b88cc64-55b1-4ac9-a3fc-25844f162198",
   "metadata": {},
   "outputs": [],
   "source": [
    "from scipy.stats import zscore"
   ]
  },
  {
   "cell_type": "code",
   "execution_count": 50,
   "id": "87277643-e0c7-4b10-88f1-0e267b6fb24f",
   "metadata": {},
   "outputs": [
    {
     "data": {
      "text/plain": [
       "array([ 0.3470272 ,  0.68467528, -0.10317025, -0.77846641, -0.66591705,\n",
       "       -0.77846641,  0.00937911,  1.02232336, -0.10317025, -1.1161145 ,\n",
       "        0.68467528, -0.89101578,  2.26036634,  0.79722464,  2.14781697,\n",
       "        0.909774  , -0.77846641, -0.66591705, -1.00356514, -0.55336769,\n",
       "       -0.32826897,  0.23447784,  1.35997145,  0.23447784,  0.45957656,\n",
       "       -1.45376258,  0.909774  ,  1.35997145, -1.34121322,  0.68467528,\n",
       "       -0.77846641,  1.02232336, -1.00356514, -1.34121322, -1.00356514,\n",
       "        0.79722464, -1.1161145 ,  1.81016889,  0.12192847, -1.1161145 ,\n",
       "        0.3470272 , -0.55336769, -0.77846641,  1.24742209, -0.10317025,\n",
       "        0.909774  , -0.44081833,  0.3470272 , -0.32826897,  0.68467528,\n",
       "       -1.6788613 ,  1.24742209,  0.3470272 , -0.89101578, -0.55336769,\n",
       "        1.02232336,  0.23447784, -1.00356514,  1.35997145, -2.35415747])"
      ]
     },
     "execution_count": 50,
     "metadata": {},
     "output_type": "execute_result"
    }
   ],
   "source": [
    "z_classscore = zscore(classscore)\n",
    "z_classscore"
   ]
  },
  {
   "cell_type": "code",
   "execution_count": 68,
   "id": "be8c8002-a224-4ea3-9d4f-5013e793d682",
   "metadata": {},
   "outputs": [
    {
     "data": {
      "text/plain": [
       "1.2474220853163083"
      ]
     },
     "execution_count": 68,
     "metadata": {},
     "output_type": "execute_result"
    }
   ],
   "source": [
    "z_60 = z_classscore[list(classscore).index(60)]\n",
    "z_60"
   ]
  },
  {
   "cell_type": "code",
   "execution_count": 70,
   "id": "e2190e13-afa6-4a34-aa39-db59c82051b8",
   "metadata": {},
   "outputs": [
    {
     "data": {
      "text/plain": [
       "0.10612138635680579"
      ]
     },
     "execution_count": 70,
     "metadata": {},
     "output_type": "execute_result"
    }
   ],
   "source": [
    "prob_60 = 1 - stats.norm.cdf(z_60)\n",
    "prob_60"
   ]
  },
  {
   "cell_type": "code",
   "execution_count": 100,
   "id": "5c90a809-a194-4430-8687-bb72b8ba1d9f",
   "metadata": {},
   "outputs": [
    {
     "data": {
      "image/png": "[encoded data removed]",
      "text/plain": [
       "<Figure size 432x288 with 1 Axes>"
      ]
     },
     "metadata": {
      "needs_background": "light"
     },
     "output_type": "display_data"
    }
   ],
   "source": [
    "n = 60\n",
    "z = z_classscore[list(classscore).index(n)]\n",
    "prob = 1 - stats.norm.cdf(z)\n",
    "\n",
    "plt.hist(classscore, 30, edgecolor='white', density=True)\n",
    "\n",
    "plt.vlines(n, 0, 0.10, colors='k', lw = 1)\n",
    "\n",
    "plt.title('Histograma das notas de estudantes')\n",
    "plt.xlabel('Nota')\n",
    "plt.ylabel('Frequência relativa')\n",
    "\n",
    "plt.text(s=f' $P(X \\geq {n})$ = {prob:.4f}', x=n+1, y=0.05, rotation=90)\n",
    "\n",
    "\n",
    "plt.ylim(0, 0.10)\n",
    "plt.show()"
   ]
  },
  {
   "cell_type": "code",
   "execution_count": 101,
   "id": "15d902f6-c2a2-478d-a8d1-f93051d6764e",
   "metadata": {},
   "outputs": [
    {
     "data": {
      "text/plain": [
       "-2.3333333333333335"
      ]
     },
     "execution_count": 101,
     "metadata": {},
     "output_type": "execute_result"
    }
   ],
   "source": [
    "zscore = (53 - 60) / 3.0\n",
    "zscore"
   ]
  },
  {
   "cell_type": "code",
   "execution_count": 102,
   "id": "f6e0aaab-e4c4-43ca-8eda-d5e103297b90",
   "metadata": {},
   "outputs": [
    {
     "data": {
      "text/plain": [
       "0.009815328628645334"
      ]
     },
     "execution_count": 102,
     "metadata": {},
     "output_type": "execute_result"
    }
   ],
   "source": [
    "prob = stats.norm.cdf(zscore)\n",
    "prob"
   ]
  },
  {
   "cell_type": "markdown",
   "id": "c05a1431-48ad-4997-a375-fe14ad8288c5",
   "metadata": {},
   "source": [
    "## Intervalos de confiança"
   ]
  },
  {
   "cell_type": "code",
   "execution_count": 103,
   "id": "3ba82a9a-3e21-48ca-971c-fa6ec97e4303",
   "metadata": {},
   "outputs": [],
   "source": [
    "height_data = np.array([ \n",
    "    186.0, 180.0, 195.0, 189.0, 191.0,\n",
    "    177.0, 161.0, 177.0, 192.0, 182.0, 185.0, 192.0,\n",
    "    173.0, 172.0, 191.0, 184.0, 193.0, 182.0, 190.0, 185.0, 181.0,\n",
    "    188.0, 179.0, 188.0,\n",
    "    170.0, 179.0, 180.0, 189.0, 188.0, 185.0, 170.0, 197.0, 187.0,\n",
    "    182.0, 173.0, 179.0,\n",
    "    184.0, 177.0, 190.0, 174.0, 203.0, 206.0, 173.0, 169.0, 178.0,\n",
    "    201.0, 198.0, 166.0, 171.0, 180.0\n",
    "])"
   ]
  },
  {
   "cell_type": "code",
   "execution_count": 106,
   "id": "629f008c-17f3-450c-9c76-0a011d617ccd",
   "metadata": {},
   "outputs": [
    {
     "data": {
      "image/png": "[encoded data removed]",
      "text/plain": [
       "<Figure size 432x288 with 1 Axes>"
      ]
     },
     "metadata": {
      "needs_background": "light"
     },
     "output_type": "display_data"
    }
   ],
   "source": [
    "plt.hist(height_data, bins=30, density=True, edgecolor='w')\n",
    "\n",
    "plt.xlabel('Altura (cm)')\n",
    "plt.ylabel('Frequência relativa')\n",
    "plt.show()"
   ]
  },
  {
   "cell_type": "code",
   "execution_count": 107,
   "id": "4297c416-ba0e-4578-9d6a-2e0380b6a499",
   "metadata": {},
   "outputs": [
    {
     "data": {
      "text/plain": [
       "183.24"
      ]
     },
     "execution_count": 107,
     "metadata": {},
     "output_type": "execute_result"
    }
   ],
   "source": [
    "height_mean = height_data.mean()\n",
    "height_mean"
   ]
  },
  {
   "cell_type": "markdown",
   "id": "a13bc1b3-dd14-4487-aeb5-5a679c6be7c5",
   "metadata": {},
   "source": [
    "Erro Padrão da Média (SEmean)\n",
    "\n",
    "$$\n",
    "SE_\\overline{x} = \\dfrac{s}{\\sqrt{n}}\n",
    "$$"
   ]
  },
  {
   "cell_type": "code",
   "execution_count": 111,
   "id": "c2c0a830-7077-4cf8-aaf9-c7cc6719c7a6",
   "metadata": {},
   "outputs": [
    {
     "data": {
      "text/plain": [
       "1.3787187190005248"
      ]
     },
     "execution_count": 111,
     "metadata": {},
     "output_type": "execute_result"
    }
   ],
   "source": [
    "SEmean = stats.sem(height_data)\n",
    "SEmean"
   ]
  },
  {
   "cell_type": "markdown",
   "id": "fdc188fc-7558-4ea5-9efa-3e6ecff0f1ba",
   "metadata": {},
   "source": [
    "Cálculo do intervalo de confiança\n",
    "\n",
    "Upper/Lower limit = mean(height) + / - sigma * SEmean(x)"
   ]
  },
  {
   "cell_type": "code",
   "execution_count": 114,
   "id": "d18f0b93-d8bc-400e-97b2-991a7b31f906",
   "metadata": {},
   "outputs": [
    {
     "name": "stdout",
     "output_type": "stream",
     "text": [
      "(180.54, 185.94)\n"
     ]
    }
   ],
   "source": [
    "sigma = 1.96\n",
    "\n",
    "lower_limit = height_mean - sigma * SEmean\n",
    "\n",
    "upper_limit = height_mean + sigma * SEmean\n",
    "\n",
    "print(f\"({lower_limit:.2f}, {upper_limit:.2f})\")"
   ]
  },
  {
   "cell_type": "code",
   "execution_count": 132,
   "id": "575701cc-ef69-4f83-bb97-29651c127091",
   "metadata": {},
   "outputs": [
    {
     "data": {
      "image/png": "[encoded data removed]",
      "text/plain": [
       "<Figure size 432x288 with 1 Axes>"
      ]
     },
     "metadata": {
      "needs_background": "light"
     },
     "output_type": "display_data"
    }
   ],
   "source": [
    "plt.hist(height_data, bins=30, density=True, edgecolor='w')\n",
    "\n",
    "plt.vlines(height_mean, 0, 0.1, colors='k', linestyles='-', lw=1, label='$\\overline{x}$ =' + f'{height_mean:.2f} cm')\n",
    "plt.fill_between(np.arange(lower_limit, upper_limit, 0.1), 0, 0.10, color='g', alpha=0.5, label=f'IC = ({lower_limit:.2f}, {upper_limit:.2f})')\n",
    "\n",
    "plt.xlabel('Altura (cm)')\n",
    "plt.ylabel('Frequência relativa')\n",
    "plt.ylim(0, 0.10)\n",
    "plt.legend(frameon=False)\n",
    "plt.show()"
   ]
  },
  {
   "cell_type": "code",
   "execution_count": 156,
   "id": "843de7f0-f077-49a9-ab8e-49d5621213c4",
   "metadata": {},
   "outputs": [],
   "source": [
    "average_height = []\n",
    "\n",
    "for i in range(500):\n",
    "    sample50 = np.random.choice(height_data, size=50, replace=True)\n",
    "    average_height.append(sample50.mean())"
   ]
  },
  {
   "cell_type": "code",
   "execution_count": 157,
   "id": "6237edf7-c411-43e2-9a39-1d6fd1dec132",
   "metadata": {},
   "outputs": [
    {
     "data": {
      "image/png": "[encoded data removed]",
      "text/plain": [
       "<Figure size 432x288 with 1 Axes>"
      ]
     },
     "metadata": {
      "needs_background": "light"
     },
     "output_type": "display_data"
    }
   ],
   "source": [
    "plt.hist(average_height, 20, density=True, edgecolor='w')\n",
    "plt.show()"
   ]
  },
  {
   "cell_type": "code",
   "execution_count": null,
   "id": "5fcbafdb-ee71-4ffb-a49c-a66d5cb0a5ba",
   "metadata": {},
   "outputs": [],
   "source": []
  }
 ],
 "metadata": {
  "kernelspec": {
   "display_name": "ds39",
   "language": "python",
   "name": "ds39"
  },
  "language_info": {
   "codemirror_mode": {
    "name": "ipython",
    "version": 3
   },
   "file_extension": ".py",
   "mimetype": "text/x-python",
   "name": "python",
   "nbconvert_exporter": "python",
   "pygments_lexer": "ipython3",
   "version": "3.9.15"
  }
 },
 "nbformat": 4,
 "nbformat_minor": 5
}
